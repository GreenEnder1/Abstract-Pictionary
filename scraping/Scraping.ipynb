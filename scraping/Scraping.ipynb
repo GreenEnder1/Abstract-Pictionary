
import time

from duckduckgo_search import DDGS
from duckduckgo_search import AsyncDDGS
import json

import urllib.request 
from PIL import Image 
#%%
results = DDGS().text("python programming", max_results=5)
print(results)
#%%
def images(
    keywords: str,
    region: str = "wt-wt",
    safesearch: str = "moderate",
    timelimit = None,
    size = None,
    color = None,
    type_image = None,
    layout = None,
    license_image = None,
    max_results = 1000000,
):
    """DuckDuckGo images search. Query params: https://duckduckgo.com/params.
    
    Args:
        keywords: keywords for query.
        region: wt-wt, us-en, uk-en, ru-ru, etc. Defaults to "wt-wt".
        safesearch: on, moderate, off. Defaults to "moderate".
        timelimit: Day, Week, Month, Year. Defaults to None.
        size: Small, Medium, Large, Wallpaper. Defaults to None.
        color: color, Monochrome, Red, Orange, Yellow, Green, Blue,
            Purple, Pink, Brown, Black, Gray, Teal, White. Defaults to None.
        type_image: photo, clipart, gif, transparent, line.
            Defaults to None.
        layout: Square, Tall, Wide. Defaults to None.
        license_image: any (All Creative Commons), Public (PublicDomain),
            Share (Free to Share and Use), ShareCommercially (Free to Share and Use Commercially),
            Modify (Free to Modify, Share, and Use), ModifyCommercially (Free to Modify, Share, and
            Use Commercially). Defaults to None.
        max_results: max number of results. If None, returns results only from the first response. Defaults to None.
    
    Returns:
        List of dictionaries with images search results.
    """
    
#%%
#keywords = ["happiness", "happy people", "joyful moments", "joy", "contentment", "bliss", "pleasure", "delight", "cheerfulness", "gladness", "satisfaction", "merriment", "jubilation", "radiance", "positivity","elation", "exhilaration", "excitement", "enthusiasm", "cheer"]
keywords = ["dread", "terrible", "horrifying", "awful", "gruesome", "appalling", "fearful", "horrific", "ghastly", "terrifying", "atrocious","frightening", "abominable", "disturbing", "hideous", "eerie", "ominous", "dire", "shocking", "alarming", "sinister", "morbid", "repulsive", "macabre", "unnerving", "spine-chilling", "menacing", "nightmarish", "distressing", "disastrous", "vile"]
#keywords = ["creativity", "imagination", "originality", "innovation", "ingenuity", "resourcefulness", "inventiveness", "vision", "artistry", "inspiration", "brainstorming", "thinking outside the box", "genius", "expressiveness", "flair", "cleverness", "craftsmanship", "novelty", "productivity", "intuitiveness", "resourcefulness", "insightfulness", "artfulness", "freshness", "adaptability", "aesthetic sense", "inventive spirit", "conceptualization", "design thinking", "artistic talent", "mental agility"]
#keywords = ["null", "void", "nothing", "nil", "empty", "blank", "nonexistent", "zero", "invalid", "nought", "nothingness", "vacant","meaningless", "insignificant", "worthless", "nonentity", "absence", "nonexistent value", "nullified", "canceled", "ineffective", "hollow", "useless", "without value", "devoid", "absent", "non-applicable", "vanished", "voided", "without effect", "negated"]
#keywords = ["gray", "grey", "ash", "charcoal", "slate", "silver", "smoky", "pewter", "gunmetal", "stone", "dove", "cloudy", "drab", "dusty", "graphite", "iron", "lead", "neutral", "foggy", "murky", "shadowy", "steel", "taupe", "carbon", "cool-toned", "dim", "ashen", "overcast", "monochrome", "subdued", "muted"]
#keywords = ["growing","expanding", "developing", "increasing", "flourishing", "thriving", "advancing", "progressing", "enlarging", "multiplying", "escalating", "building", "spreading", "maturing", "ascending", "blooming", "rising", "swelling", "amplifying", "strengthening", "augmenting", "broadening", "heightening", "prospering", "cultivating", "extending", "enhancing", "unfolding", "ripening", "blossoming", "proliferating"]
#keywords = ["reality","truth", "actuality", "existence", "fact", "authenticity", "realism", "verity", "tangibility", "substance", "genuineness", "practicality", "concreteness", "factuality", "materiality", "real world", "certainty", "physicality", "state of affairs", "realness", "life", "hard facts", "verisimilitude", "objectivity", "worldview", "natural order", "empirical", "nonfiction", "true state", "universe","being"]
#keywords = ["kindness",  "compassion", "generosity", "benevolence", "empathy", "warmth", "gentleness", "altruism", "consideration", "goodness", "charity", "helpfulness", "tenderness", "graciousness", "sympathy", "understanding", "caring", "thoughtfulness", "selflessness", "leniency", "humanity", "friendliness", "courtesy", "decency", "forgiveness", "patience", "big-heartedness", "tolerance", "supportiveness", "compassionate heart", "soft-heartedness"]
#keywords = ["expression", "statement", "utterance", "communication", "articulation", "representation", "manifestation", "declaration", "phrase", "expressionism", "portrayal", "depiction", "indication", "demonstration", "revelation", "embodiment", "sentiment", "showing", "gesture", "conveyance", "sign", "symbol", "illustration", "formulation", "exhibition", "delivery", "interpretation", "explanation", "proclamation", "voice", "verbalization"]
#kewords = ["fairness", "justice", "equity", "impartiality", "neutrality", "objectivity", "evenhandedness", "honesty", "integrity", "balance", "open-mindedness", "unbiasedness", "fair play", "righteousness", "equality", "nonpartisanship", "rectitude", "uprightness", "decency", "reasonableness", "lawfulness", "transparency", "propriety", "consistency", "goodness", "accountability", "truthfulness", "moral correctness", "fair treatment", "equanimity", "sincerity"]
#%%
results = DDGS().images(
    keywords="dread",
    region="wt-wt",
    safesearch="off",
    size=None,
    color="Monochrome",
    type_image=None,
    layout=None,
    license_image=None,
    max_results=1000000,
)

# async

found_images = []
for keyword in keywords:
    results = await AsyncDDGS().aimages(keyword, region='wt-wt', safesearch='off', max_results=2000)
    for result in results:
        found_images.append(result['image'])
        result = json.dumps(result, indent=4, sort_keys=True)
        time.sleep(0.005)
        #print(result)
#print(found_images)
#%%
len(found_images)
#%%
import os
from pathlib import Path
import urllib.request
from urllib.error import HTTPError

save_directory = os.path.join(os.getcwd(),"dread")
os.makedirs(save_directory, exist_ok=True)

for count, found_image in enumerate(found_images):
    try:
        url = found_image
        image_path = os.path.join(save_directory, f"{count}.png")
        urllib.request.urlretrieve(url, image_path) 
        
        # Opening the image and displaying it (to confirm its presence) 
        #img = Image.open(image_path) 
        #img.show()
        time.sleep(0.005)
    except HTTPError:
        continue
    except BaseException:
        continue
